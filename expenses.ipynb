{
 "cells": [
  {
   "cell_type": "markdown",
   "metadata": {},
   "source": [
    "## Expenses\n",
    "\n",
    "This notebook tries to visualize your annual expenses.\n",
    "\n",
    "### How to use\n",
    "\n",
    " - `YEAR` is the year.\n",
    " - `EXPENSE_FILEPATH` is the path to a TOML file containing all your expenses\n",
    " - `FONT_FAMILY` for font type\n",
    " - `FONT_SIZE` for font size\n",
    "\n",
    "### Toml format\n",
    "Expenses should be listed as such:\n",
    "```toml\n",
    "[[expense]]\n",
    "date = 2021-01-10T00:00:00-05:00\n",
    "description = \"Toilet Seat\"\n",
    "price = 28.23\n",
    "source = \"Home Depot\"\n",
    "categories = [\"Home Appliance\"]\n",
    "\n",
    "[[expense]]\n",
    "date = 2021-11-03T12:32:00-05:00\n",
    "description = \"Bubble Tea with friend\"\n",
    "price = 8.69\n",
    "source = \"Blossoming Juice\"\n",
    "categories = [\"Bubble Tea\"]\n",
    "```\n"
   ]
  },
  {
   "cell_type": "code",
   "execution_count": null,
   "metadata": {},
   "outputs": [],
   "source": [
    "## configurations\n",
    "\n",
    "YEAR = 2021\n",
    "\n",
    "EXPENSE_FILENAME_FORMAT = \"TOML\"\n",
    "\n",
    "EXPENSE_DIRECTORY = f\"{YEAR}/expenses\"\n",
    "EXPENSE_FILENAME = \"expenses.toml\"\n",
    "EXPENSE_FILEPATH = f\"{EXPENSE_DIRECTORY}/{EXPENSE_FILENAME}\"\n",
    "\n",
    "FONT_FAMILY = \"DejaVu Sans\"\n",
    "FONT_SIZE = 22\n",
    "\n"
   ]
  },
  {
   "cell_type": "code",
   "execution_count": null,
   "metadata": {},
   "outputs": [],
   "source": [
    "import numpy as np\n",
    "import matplotlib.pyplot as plt\n",
    "from enum import Enum\n",
    "import toml\n",
    "\n",
    "## classes\n",
    "\n",
    "class Expense:\n",
    "    def __init__(self, price=0.0, description=\"\", category=set()):\n",
    "        self.price = price\n",
    "        self.description = description\n",
    "        self.category = category"
   ]
  },
  {
   "cell_type": "code",
   "execution_count": null,
   "metadata": {},
   "outputs": [],
   "source": [
    "## functions\n",
    "\n",
    "def get_expenses(filename):\n",
    "    L = [[] for i in range(12)]\n",
    "    data = toml.load(filename)\n",
    "    for d in data['expense']:\n",
    "        L[d['date'].month - 1].append(d)\n",
    "    return L\n"
   ]
  },
  {
   "cell_type": "code",
   "execution_count": null,
   "metadata": {},
   "outputs": [],
   "source": [
    "# load\n",
    "\n",
    "expenses = get_expenses(EXPENSE_FILEPATH)"
   ]
  },
  {
   "cell_type": "markdown",
   "metadata": {},
   "source": [
    "## Monthly stats"
   ]
  },
  {
   "cell_type": "code",
   "execution_count": null,
   "metadata": {},
   "outputs": [],
   "source": [
    "months = np.arange(1, 13)\n",
    "\n",
    "monthly_expenses = [sum(e['price'] for e in m) for m in expenses]\n",
    "monthly_aggregate_expenses = np.cumsum(monthly_expenses)\n",
    "\n",
    "for i, m in enumerate(monthly_expenses):\n",
    "    print(\"{:02d}\\t$ {:.02f}\".format(i + 1, m))\n",
    "print(\"Total:\\t$ {}\".format(sum(monthly_expenses)))\n",
    "\n",
    "font = {'family' : FONT_FAMILY,\n",
    "        'weight' : 'bold',\n",
    "        'size'   : FONT_SIZE}\n",
    "plt.rc('font', **font)\n",
    "\n",
    "fig = plt.figure(figsize=(24, 10))\n",
    "ax = fig.add_axes([0, 0, 1, 1])\n",
    "\n",
    "ax.set_title(\"{} Monthly Expenses\".format(YEAR))\n",
    "ax.set_ylabel(\"CAD $\", fontsize=FONT_SIZE)\n",
    "ax.set_xlabel(\"Month\", fontsize=FONT_SIZE)\n",
    "ax.set_xticks(months)\n",
    "\n",
    "# plt.plot(months, monthly_expenses)\n",
    "ax.fill_between(months, 0, monthly_aggregate_expenses, color=\"#A89B8C\")\n",
    "ax.fill_between(months, 0, monthly_expenses, color=\"#F0DFAD\")\n",
    "\n",
    "for (i, v) in enumerate(monthly_aggregate_expenses):\n",
    "    ax.text(i + 0.7, v + 2,\n",
    "            \"{:.02f}\".format(v),\n",
    "            color='#1E2749',\n",
    "            fontweight='normal',\n",
    "            fontsize=FONT_SIZE)\n",
    "    \n",
    "for (i, v) in enumerate(monthly_expenses):\n",
    "    ax.text(i + 0.7, v + 2,\n",
    "            \"{:.02f}\".format(v),\n",
    "            color='#1E2749',\n",
    "            fontweight='normal',\n",
    "            fontsize=FONT_SIZE)"
   ]
  },
  {
   "cell_type": "markdown",
   "metadata": {},
   "source": [
    "## Category Stats"
   ]
  },
  {
   "cell_type": "code",
   "execution_count": null,
   "metadata": {},
   "outputs": [],
   "source": [
    "import itertools\n",
    "\n",
    "CATEGORY_QUANTITY_KEY = 0\n",
    "CATEGORY_PRICE_KEY = 1\n",
    "\n",
    "FONT_SIZE = 24\n",
    "\n",
    "all_categories = set()\n",
    "all_category_values = {}\n",
    "\n",
    "for monthly_expenses in expenses:\n",
    "    for expense in monthly_expenses:\n",
    "        expense_categories = expense.get('categories', [])\n",
    "        all_categories.update(expense_categories)\n",
    "        for category in expense_categories:\n",
    "            if category not in all_category_values:\n",
    "                all_category_values[category] = {CATEGORY_QUANTITY_KEY: 0, CATEGORY_PRICE_KEY: 0.0}\n",
    "\n",
    "            all_category_values[category][CATEGORY_QUANTITY_KEY] += 1\n",
    "            all_category_values[category][CATEGORY_PRICE_KEY] += expense['price']\n",
    "\n",
    "for (k, v) in all_category_values.items():\n",
    "    print(k.ljust(20), '\\t{}'.format(v[0]), \"\\t{:.02f}\".format(v[1]))\n",
    "\n",
    "monthly_expenses = [sum(e['price'] for e in m) for m in expenses]\n",
    "\n",
    "print(\"Total:\".ljust(20), '\\t$\\t{}'.format(sum(monthly_expenses)))\n",
    "\n",
    "sorted_by_price = [(category, v[CATEGORY_PRICE_KEY]) for (category, v) in all_category_values.items()]\n",
    "sorted_by_price.sort(key=lambda x: x[1])\n",
    "\n",
    "prices = [price for (category, price) in sorted_by_price]\n",
    "xlabels = [category for (category, price) in sorted_by_price]\n",
    "\n",
    "fig = plt.figure(figsize=(40, 20))\n",
    "ax = fig.add_axes([0, 0, 1, 1])\n",
    "\n",
    "ax.set_title(\"{} Category Expenses\".format(YEAR))\n",
    "ax.set_ylabel(\"CAD $\")\n",
    "ax.set_xlabel(\"Categories\")\n",
    "ax.set_xticks(np.arange(len(xlabels)))\n",
    "ax.set_xticklabels(xlabels, fontsize=FONT_SIZE)\n",
    "\n",
    "xs = [i for i in range(0, len(all_categories))]\n",
    "\n",
    "ax.bar(xs, prices, color=\"#A89B8C\")"
   ]
  },
  {
   "cell_type": "code",
   "execution_count": null,
   "metadata": {},
   "outputs": [],
   "source": []
  },
  {
   "cell_type": "code",
   "execution_count": null,
   "metadata": {},
   "outputs": [],
   "source": []
  }
 ],
 "metadata": {
  "kernelspec": {
   "display_name": "Python 3",
   "language": "python",
   "name": "python3"
  },
  "language_info": {
   "codemirror_mode": {
    "name": "ipython",
    "version": 3
   },
   "file_extension": ".py",
   "mimetype": "text/x-python",
   "name": "python",
   "nbconvert_exporter": "python",
   "pygments_lexer": "ipython3",
   "version": "3.9.7"
  }
 },
 "nbformat": 4,
 "nbformat_minor": 4
}
